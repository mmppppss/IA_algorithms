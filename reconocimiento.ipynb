{
  "nbformat": 4,
  "nbformat_minor": 0,
  "metadata": {
    "colab": {
      "provenance": [],
      "mount_file_id": "https://github.com/mmppppss/IA_algorithms/blob/main/reconocimiento.ipynb",
      "authorship_tag": "ABX9TyPdUgzULS5C9v8Shr7xrN0O",
      "include_colab_link": true
    },
    "kernelspec": {
      "name": "python3",
      "display_name": "Python 3"
    },
    "language_info": {
      "name": "python"
    },
    "widgets": {
      "application/vnd.jupyter.widget-state+json": {
        "9ec1793b6a3c4c90955c565c49448e2c": {
          "model_module": "@jupyter-widgets/controls",
          "model_name": "FileUploadModel",
          "model_module_version": "1.5.0",
          "state": {
            "_counter": 12,
            "_dom_classes": [],
            "_model_module": "@jupyter-widgets/controls",
            "_model_module_version": "1.5.0",
            "_model_name": "FileUploadModel",
            "_view_count": null,
            "_view_module": "@jupyter-widgets/controls",
            "_view_module_version": "1.5.0",
            "_view_name": "FileUploadView",
            "accept": "",
            "button_style": "",
            "data": [
              null
            ],
            "description": "Upload",
            "description_tooltip": null,
            "disabled": false,
            "error": "",
            "icon": "upload",
            "layout": "IPY_MODEL_ae2d40cdef8545f092f9baa39be60eb8",
            "metadata": [
              {
                "name": "gatotest.jpg",
                "type": "image/jpeg",
                "size": 900062,
                "lastModified": 1742754382232
              }
            ],
            "multiple": false,
            "style": "IPY_MODEL_b2c16286dee7449cb486a7aeeae0bb5b"
          }
        },
        "ae2d40cdef8545f092f9baa39be60eb8": {
          "model_module": "@jupyter-widgets/base",
          "model_name": "LayoutModel",
          "model_module_version": "1.2.0",
          "state": {
            "_model_module": "@jupyter-widgets/base",
            "_model_module_version": "1.2.0",
            "_model_name": "LayoutModel",
            "_view_count": null,
            "_view_module": "@jupyter-widgets/base",
            "_view_module_version": "1.2.0",
            "_view_name": "LayoutView",
            "align_content": null,
            "align_items": null,
            "align_self": null,
            "border": null,
            "bottom": null,
            "display": null,
            "flex": null,
            "flex_flow": null,
            "grid_area": null,
            "grid_auto_columns": null,
            "grid_auto_flow": null,
            "grid_auto_rows": null,
            "grid_column": null,
            "grid_gap": null,
            "grid_row": null,
            "grid_template_areas": null,
            "grid_template_columns": null,
            "grid_template_rows": null,
            "height": null,
            "justify_content": null,
            "justify_items": null,
            "left": null,
            "margin": null,
            "max_height": null,
            "max_width": null,
            "min_height": null,
            "min_width": null,
            "object_fit": null,
            "object_position": null,
            "order": null,
            "overflow": null,
            "overflow_x": null,
            "overflow_y": null,
            "padding": null,
            "right": null,
            "top": null,
            "visibility": null,
            "width": null
          }
        },
        "b2c16286dee7449cb486a7aeeae0bb5b": {
          "model_module": "@jupyter-widgets/controls",
          "model_name": "ButtonStyleModel",
          "model_module_version": "1.5.0",
          "state": {
            "_model_module": "@jupyter-widgets/controls",
            "_model_module_version": "1.5.0",
            "_model_name": "ButtonStyleModel",
            "_view_count": null,
            "_view_module": "@jupyter-widgets/base",
            "_view_module_version": "1.2.0",
            "_view_name": "StyleView",
            "button_color": null,
            "font_weight": ""
          }
        }
      }
    }
  },
  "cells": [
    {
      "cell_type": "markdown",
      "metadata": {
        "id": "view-in-github",
        "colab_type": "text"
      },
      "source": [
        "<a href=\"https://colab.research.google.com/github/mmppppss/IA_algorithms/blob/main/reconocimiento.ipynb\" target=\"_parent\"><img src=\"https://colab.research.google.com/assets/colab-badge.svg\" alt=\"Open In Colab\"/></a>"
      ]
    },
    {
      "cell_type": "code",
      "source": [
        "import requests\n",
        "import os\n",
        "\n",
        "from google.colab import userdata\n",
        "PEXELS_API_KEY = userdata.get('pexelsKEY')\n",
        "\n",
        "output_folder = \"drive/MyDrive/IA/images/gatos\"\n",
        "os.makedirs(output_folder, exist_ok=True)\n",
        "\n",
        "def download_images(query, count=5):\n",
        "    headers = {\"Authorization\": PEXELS_API_KEY}\n",
        "    url = f\"https://api.pexels.com/v1/search?query={query}&per_page={count}\"\n",
        "    response = requests.get(url, headers=headers)\n",
        "\n",
        "    if response.status_code == 200:\n",
        "        data = response.json()\n",
        "        image_count = 0\n",
        "\n",
        "        for photo in data[\"photos\"]:\n",
        "            image_url = photo[\"src\"][\"original\"]\n",
        "            img_data = requests.get(image_url).content\n",
        "\n",
        "            file_name = os.path.join(output_folder, f\"image_{image_count}.jpg\")\n",
        "            with open(file_name, 'wb') as img_file:\n",
        "                img_file.write(img_data)\n",
        "\n",
        "            print(f\"Imagen guardada: {file_name}\")\n",
        "            image_count += 1\n",
        "    else:\n",
        "        print(\"Error al obtener imágenes de Pexels\")\n",
        "\n",
        "# Usa la función para descargar imágenes de una búsqueda específica\n",
        "download_images(\"gato naranja\", count=20)\n",
        "output_folder = \"drive/MyDrive/IA/images/perros\"\n",
        "os.makedirs(output_folder, exist_ok=True)\n",
        "download_images(\"perro marron\", count=20)\n",
        "\n"
      ],
      "metadata": {
        "colab": {
          "base_uri": "https://localhost:8080/"
        },
        "id": "O7j2cEchVypO",
        "outputId": "3c9bb0e2-0f6c-4c5e-a376-3cfea084207b"
      },
      "execution_count": 19,
      "outputs": [
        {
          "output_type": "stream",
          "name": "stdout",
          "text": [
            "Imagen guardada: drive/MyDrive/IA/images/gatos/image_0.jpg\n",
            "Imagen guardada: drive/MyDrive/IA/images/gatos/image_1.jpg\n",
            "Imagen guardada: drive/MyDrive/IA/images/gatos/image_2.jpg\n",
            "Imagen guardada: drive/MyDrive/IA/images/gatos/image_3.jpg\n",
            "Imagen guardada: drive/MyDrive/IA/images/gatos/image_4.jpg\n",
            "Imagen guardada: drive/MyDrive/IA/images/gatos/image_5.jpg\n",
            "Imagen guardada: drive/MyDrive/IA/images/gatos/image_6.jpg\n",
            "Imagen guardada: drive/MyDrive/IA/images/gatos/image_7.jpg\n",
            "Imagen guardada: drive/MyDrive/IA/images/gatos/image_8.jpg\n",
            "Imagen guardada: drive/MyDrive/IA/images/gatos/image_9.jpg\n",
            "Imagen guardada: drive/MyDrive/IA/images/gatos/image_10.jpg\n",
            "Imagen guardada: drive/MyDrive/IA/images/gatos/image_11.jpg\n",
            "Imagen guardada: drive/MyDrive/IA/images/gatos/image_12.jpg\n",
            "Imagen guardada: drive/MyDrive/IA/images/gatos/image_13.jpg\n",
            "Imagen guardada: drive/MyDrive/IA/images/gatos/image_14.jpg\n",
            "Imagen guardada: drive/MyDrive/IA/images/gatos/image_15.jpg\n",
            "Imagen guardada: drive/MyDrive/IA/images/gatos/image_16.jpg\n",
            "Imagen guardada: drive/MyDrive/IA/images/gatos/image_17.jpg\n",
            "Imagen guardada: drive/MyDrive/IA/images/gatos/image_18.jpg\n",
            "Imagen guardada: drive/MyDrive/IA/images/gatos/image_19.jpg\n",
            "Imagen guardada: drive/MyDrive/IA/images/perros/image_0.jpg\n",
            "Imagen guardada: drive/MyDrive/IA/images/perros/image_1.jpg\n",
            "Imagen guardada: drive/MyDrive/IA/images/perros/image_2.jpg\n",
            "Imagen guardada: drive/MyDrive/IA/images/perros/image_3.jpg\n",
            "Imagen guardada: drive/MyDrive/IA/images/perros/image_4.jpg\n",
            "Imagen guardada: drive/MyDrive/IA/images/perros/image_5.jpg\n",
            "Imagen guardada: drive/MyDrive/IA/images/perros/image_6.jpg\n",
            "Imagen guardada: drive/MyDrive/IA/images/perros/image_7.jpg\n",
            "Imagen guardada: drive/MyDrive/IA/images/perros/image_8.jpg\n",
            "Imagen guardada: drive/MyDrive/IA/images/perros/image_9.jpg\n",
            "Imagen guardada: drive/MyDrive/IA/images/perros/image_10.jpg\n",
            "Imagen guardada: drive/MyDrive/IA/images/perros/image_11.jpg\n",
            "Imagen guardada: drive/MyDrive/IA/images/perros/image_12.jpg\n",
            "Imagen guardada: drive/MyDrive/IA/images/perros/image_13.jpg\n",
            "Imagen guardada: drive/MyDrive/IA/images/perros/image_14.jpg\n",
            "Imagen guardada: drive/MyDrive/IA/images/perros/image_15.jpg\n",
            "Imagen guardada: drive/MyDrive/IA/images/perros/image_16.jpg\n",
            "Imagen guardada: drive/MyDrive/IA/images/perros/image_17.jpg\n",
            "Imagen guardada: drive/MyDrive/IA/images/perros/image_18.jpg\n",
            "Imagen guardada: drive/MyDrive/IA/images/perros/image_19.jpg\n"
          ]
        }
      ]
    },
    {
      "cell_type": "code",
      "execution_count": 4,
      "metadata": {
        "id": "XOef94raLXOz"
      },
      "outputs": [],
      "source": [
        "import os\n",
        "import numpy as np\n",
        "import matplotlib.pyplot as plt\n",
        "import tensorflow as tf\n",
        "from tensorflow.keras.preprocessing.image import ImageDataGenerator\n",
        "from tensorflow.keras import layers, models"
      ]
    },
    {
      "cell_type": "code",
      "source": [
        "train_dir = 'drive/MyDrive/IA/images'\n",
        "test_dir = 'drive/MyDrive/IA/test'\n",
        "\n",
        "# Preprocesamiento y aumento de datos\n",
        "train_datagen = ImageDataGenerator(\n",
        "    rescale=1./255,\n",
        "    shear_range=0.2,\n",
        "    zoom_range=0.2,\n",
        "    horizontal_flip=True)\n",
        "\n",
        "test_datagen = ImageDataGenerator(rescale=1./255)\n",
        "\n",
        "train_generator = train_datagen.flow_from_directory(\n",
        "    train_dir,\n",
        "    target_size=(150, 150),\n",
        "    batch_size=32,\n",
        "    class_mode='binary')\n",
        "\n",
        "test_generator = test_datagen.flow_from_directory(\n",
        "    test_dir,\n",
        "    target_size=(150, 150),\n",
        "    batch_size=32,\n",
        "    class_mode='binary')"
      ],
      "metadata": {
        "colab": {
          "base_uri": "https://localhost:8080/"
        },
        "id": "RgAhz4LYOwFh",
        "outputId": "45eff69b-a2c5-409e-af8b-9ca196d4a66f"
      },
      "execution_count": 5,
      "outputs": [
        {
          "output_type": "stream",
          "name": "stdout",
          "text": [
            "Found 40 images belonging to 2 classes.\n",
            "Found 2 images belonging to 2 classes.\n"
          ]
        }
      ]
    },
    {
      "cell_type": "code",
      "source": [
        "modelo = models.Sequential([\n",
        "    layers.Conv2D(32, (3, 3), activation='relu', input_shape=(150, 150, 3)),\n",
        "    layers.MaxPooling2D((2, 2)),\n",
        "    layers.Conv2D(64, (3, 3), activation='relu'),\n",
        "    layers.MaxPooling2D((2, 2)),\n",
        "    layers.Conv2D(128, (3, 3), activation='relu'),\n",
        "    layers.MaxPooling2D((2, 2)),\n",
        "    layers.Conv2D(128, (3, 3), activation='relu'),\n",
        "    layers.MaxPooling2D((2, 2)),\n",
        "    layers.Flatten(),\n",
        "    layers.Dropout(0.5),\n",
        "    layers.Dense(512, activation='relu'),\n",
        "    layers.Dense(1, activation='sigmoid')\n",
        "])"
      ],
      "metadata": {
        "id": "r6VtfKyCPJcq",
        "colab": {
          "base_uri": "https://localhost:8080/"
        },
        "outputId": "7738a804-e931-494f-9ff5-0fbe1887eb24"
      },
      "execution_count": 6,
      "outputs": [
        {
          "output_type": "stream",
          "name": "stderr",
          "text": [
            "/usr/local/lib/python3.11/dist-packages/keras/src/layers/convolutional/base_conv.py:107: UserWarning: Do not pass an `input_shape`/`input_dim` argument to a layer. When using Sequential models, prefer using an `Input(shape)` object as the first layer in the model instead.\n",
            "  super().__init__(activity_regularizer=activity_regularizer, **kwargs)\n"
          ]
        }
      ]
    },
    {
      "cell_type": "code",
      "source": [
        "# Compilar el modelo\n",
        "modelo.compile(optimizer='adam',\n",
        "              loss='binary_crossentropy',\n",
        "              metrics=['accuracy'])\n",
        "\n",
        "# Entrenar el modelo\n",
        "historia = modelo.fit(train_generator, epochs=30, validation_data=test_generator)"
      ],
      "metadata": {
        "colab": {
          "base_uri": "https://localhost:8080/"
        },
        "id": "tQSHDl2WPQ-G",
        "outputId": "224cb39a-a6f5-44f9-e65e-3314516bf699"
      },
      "execution_count": 7,
      "outputs": [
        {
          "output_type": "stream",
          "name": "stderr",
          "text": [
            "/usr/local/lib/python3.11/dist-packages/keras/src/trainers/data_adapters/py_dataset_adapter.py:121: UserWarning: Your `PyDataset` class should call `super().__init__(**kwargs)` in its constructor. `**kwargs` can include `workers`, `use_multiprocessing`, `max_queue_size`. Do not pass these arguments to `fit()`, as they will be ignored.\n",
            "  self._warn_if_super_not_called()\n"
          ]
        },
        {
          "output_type": "stream",
          "name": "stdout",
          "text": [
            "Epoch 1/30\n",
            "\u001b[1m2/2\u001b[0m \u001b[32m━━━━━━━━━━━━━━━━━━━━\u001b[0m\u001b[37m\u001b[0m \u001b[1m16s\u001b[0m 3s/step - accuracy: 0.5979 - loss: 0.6920 - val_accuracy: 0.5000 - val_loss: 0.9738\n",
            "Epoch 2/30\n",
            "\u001b[1m2/2\u001b[0m \u001b[32m━━━━━━━━━━━━━━━━━━━━\u001b[0m\u001b[37m\u001b[0m \u001b[1m13s\u001b[0m 2s/step - accuracy: 0.5104 - loss: 0.7077 - val_accuracy: 0.5000 - val_loss: 0.7746\n",
            "Epoch 3/30\n",
            "\u001b[1m2/2\u001b[0m \u001b[32m━━━━━━━━━━━━━━━━━━━━\u001b[0m\u001b[37m\u001b[0m \u001b[1m13s\u001b[0m 11s/step - accuracy: 0.5833 - loss: 0.7513 - val_accuracy: 0.5000 - val_loss: 0.8055\n",
            "Epoch 4/30\n",
            "\u001b[1m2/2\u001b[0m \u001b[32m━━━━━━━━━━━━━━━━━━━━\u001b[0m\u001b[37m\u001b[0m \u001b[1m14s\u001b[0m 2s/step - accuracy: 0.5000 - loss: 0.7292 - val_accuracy: 0.0000e+00 - val_loss: 0.7135\n",
            "Epoch 5/30\n",
            "\u001b[1m2/2\u001b[0m \u001b[32m━━━━━━━━━━━━━━━━━━━━\u001b[0m\u001b[37m\u001b[0m \u001b[1m13s\u001b[0m 10s/step - accuracy: 0.7333 - loss: 0.6554 - val_accuracy: 0.5000 - val_loss: 0.7104\n",
            "Epoch 6/30\n",
            "\u001b[1m2/2\u001b[0m \u001b[32m━━━━━━━━━━━━━━━━━━━━\u001b[0m\u001b[37m\u001b[0m \u001b[1m14s\u001b[0m 2s/step - accuracy: 0.5104 - loss: 0.6233 - val_accuracy: 0.5000 - val_loss: 0.7893\n",
            "Epoch 7/30\n",
            "\u001b[1m2/2\u001b[0m \u001b[32m━━━━━━━━━━━━━━━━━━━━\u001b[0m\u001b[37m\u001b[0m \u001b[1m13s\u001b[0m 10s/step - accuracy: 0.5833 - loss: 0.5653 - val_accuracy: 0.5000 - val_loss: 0.7919\n",
            "Epoch 8/30\n",
            "\u001b[1m2/2\u001b[0m \u001b[32m━━━━━━━━━━━━━━━━━━━━\u001b[0m\u001b[37m\u001b[0m \u001b[1m20s\u001b[0m 11s/step - accuracy: 0.7250 - loss: 0.5809 - val_accuracy: 0.5000 - val_loss: 0.7601\n",
            "Epoch 9/30\n",
            "\u001b[1m2/2\u001b[0m \u001b[32m━━━━━━━━━━━━━━━━━━━━\u001b[0m\u001b[37m\u001b[0m \u001b[1m13s\u001b[0m 2s/step - accuracy: 0.8646 - loss: 0.5178 - val_accuracy: 0.5000 - val_loss: 1.4051\n",
            "Epoch 10/30\n",
            "\u001b[1m2/2\u001b[0m \u001b[32m━━━━━━━━━━━━━━━━━━━━\u001b[0m\u001b[37m\u001b[0m \u001b[1m12s\u001b[0m 1s/step - accuracy: 0.8854 - loss: 0.4363 - val_accuracy: 0.5000 - val_loss: 1.1409\n",
            "Epoch 11/30\n",
            "\u001b[1m2/2\u001b[0m \u001b[32m━━━━━━━━━━━━━━━━━━━━\u001b[0m\u001b[37m\u001b[0m \u001b[1m13s\u001b[0m 1s/step - accuracy: 0.7937 - loss: 0.4372 - val_accuracy: 0.5000 - val_loss: 1.3660\n",
            "Epoch 12/30\n",
            "\u001b[1m2/2\u001b[0m \u001b[32m━━━━━━━━━━━━━━━━━━━━\u001b[0m\u001b[37m\u001b[0m \u001b[1m13s\u001b[0m 2s/step - accuracy: 0.7292 - loss: 0.4461 - val_accuracy: 0.5000 - val_loss: 2.8720\n",
            "Epoch 13/30\n",
            "\u001b[1m2/2\u001b[0m \u001b[32m━━━━━━━━━━━━━━━━━━━━\u001b[0m\u001b[37m\u001b[0m \u001b[1m14s\u001b[0m 2s/step - accuracy: 0.9125 - loss: 0.3327 - val_accuracy: 0.5000 - val_loss: 2.9348\n",
            "Epoch 14/30\n",
            "\u001b[1m2/2\u001b[0m \u001b[32m━━━━━━━━━━━━━━━━━━━━\u001b[0m\u001b[37m\u001b[0m \u001b[1m13s\u001b[0m 2s/step - accuracy: 0.9458 - loss: 0.3012 - val_accuracy: 0.5000 - val_loss: 2.9246\n",
            "Epoch 15/30\n",
            "\u001b[1m2/2\u001b[0m \u001b[32m━━━━━━━━━━━━━━━━━━━━\u001b[0m\u001b[37m\u001b[0m \u001b[1m13s\u001b[0m 3s/step - accuracy: 0.8750 - loss: 0.2714 - val_accuracy: 0.5000 - val_loss: 4.2141\n",
            "Epoch 16/30\n",
            "\u001b[1m2/2\u001b[0m \u001b[32m━━━━━━━━━━━━━━━━━━━━\u001b[0m\u001b[37m\u001b[0m \u001b[1m20s\u001b[0m 2s/step - accuracy: 0.9729 - loss: 0.2394 - val_accuracy: 0.5000 - val_loss: 4.8047\n",
            "Epoch 17/30\n",
            "\u001b[1m2/2\u001b[0m \u001b[32m━━━━━━━━━━━━━━━━━━━━\u001b[0m\u001b[37m\u001b[0m \u001b[1m13s\u001b[0m 1s/step - accuracy: 0.9458 - loss: 0.2944 - val_accuracy: 0.5000 - val_loss: 4.6974\n",
            "Epoch 18/30\n",
            "\u001b[1m2/2\u001b[0m \u001b[32m━━━━━━━━━━━━━━━━━━━━\u001b[0m\u001b[37m\u001b[0m \u001b[1m20s\u001b[0m 11s/step - accuracy: 0.9500 - loss: 0.2085 - val_accuracy: 0.5000 - val_loss: 4.9330\n",
            "Epoch 19/30\n",
            "\u001b[1m2/2\u001b[0m \u001b[32m━━━━━━━━━━━━━━━━━━━━\u001b[0m\u001b[37m\u001b[0m \u001b[1m13s\u001b[0m 2s/step - accuracy: 0.9458 - loss: 0.2274 - val_accuracy: 0.5000 - val_loss: 4.4761\n",
            "Epoch 20/30\n",
            "\u001b[1m2/2\u001b[0m \u001b[32m━━━━━━━━━━━━━━━━━━━━\u001b[0m\u001b[37m\u001b[0m \u001b[1m21s\u001b[0m 11s/step - accuracy: 0.9833 - loss: 0.1393 - val_accuracy: 0.5000 - val_loss: 5.0052\n",
            "Epoch 21/30\n",
            "\u001b[1m2/2\u001b[0m \u001b[32m━━━━━━━━━━━━━━━━━━━━\u001b[0m\u001b[37m\u001b[0m \u001b[1m13s\u001b[0m 11s/step - accuracy: 0.9500 - loss: 0.1357 - val_accuracy: 0.5000 - val_loss: 4.5569\n",
            "Epoch 22/30\n",
            "\u001b[1m2/2\u001b[0m \u001b[32m━━━━━━━━━━━━━━━━━━━━\u001b[0m\u001b[37m\u001b[0m \u001b[1m13s\u001b[0m 11s/step - accuracy: 0.9833 - loss: 0.0778 - val_accuracy: 0.5000 - val_loss: 4.0149\n",
            "Epoch 23/30\n",
            "\u001b[1m2/2\u001b[0m \u001b[32m━━━━━━━━━━━━━━━━━━━━\u001b[0m\u001b[37m\u001b[0m \u001b[1m13s\u001b[0m 11s/step - accuracy: 0.9667 - loss: 0.1171 - val_accuracy: 0.5000 - val_loss: 4.7613\n",
            "Epoch 24/30\n",
            "\u001b[1m2/2\u001b[0m \u001b[32m━━━━━━━━━━━━━━━━━━━━\u001b[0m\u001b[37m\u001b[0m \u001b[1m13s\u001b[0m 11s/step - accuracy: 0.9833 - loss: 0.0907 - val_accuracy: 0.5000 - val_loss: 5.3637\n",
            "Epoch 25/30\n",
            "\u001b[1m2/2\u001b[0m \u001b[32m━━━━━━━━━━━━━━━━━━━━\u001b[0m\u001b[37m\u001b[0m \u001b[1m14s\u001b[0m 2s/step - accuracy: 0.9833 - loss: 0.0670 - val_accuracy: 0.5000 - val_loss: 2.9723\n",
            "Epoch 26/30\n",
            "\u001b[1m2/2\u001b[0m \u001b[32m━━━━━━━━━━━━━━━━━━━━\u001b[0m\u001b[37m\u001b[0m \u001b[1m14s\u001b[0m 11s/step - accuracy: 0.7750 - loss: 0.5765 - val_accuracy: 0.5000 - val_loss: 3.6196\n",
            "Epoch 27/30\n",
            "\u001b[1m2/2\u001b[0m \u001b[32m━━━━━━━━━━━━━━━━━━━━\u001b[0m\u001b[37m\u001b[0m \u001b[1m14s\u001b[0m 11s/step - accuracy: 0.9833 - loss: 0.1110 - val_accuracy: 0.5000 - val_loss: 5.9124\n",
            "Epoch 28/30\n",
            "\u001b[1m2/2\u001b[0m \u001b[32m━━━━━━━━━━━━━━━━━━━━\u001b[0m\u001b[37m\u001b[0m \u001b[1m14s\u001b[0m 11s/step - accuracy: 0.8667 - loss: 0.3027 - val_accuracy: 0.5000 - val_loss: 4.2945\n",
            "Epoch 29/30\n",
            "\u001b[1m2/2\u001b[0m \u001b[32m━━━━━━━━━━━━━━━━━━━━\u001b[0m\u001b[37m\u001b[0m \u001b[1m20s\u001b[0m 2s/step - accuracy: 0.9667 - loss: 0.1048 - val_accuracy: 0.5000 - val_loss: 3.0989\n",
            "Epoch 30/30\n",
            "\u001b[1m2/2\u001b[0m \u001b[32m━━━━━━━━━━━━━━━━━━━━\u001b[0m\u001b[37m\u001b[0m \u001b[1m13s\u001b[0m 11s/step - accuracy: 0.9500 - loss: 0.1362 - val_accuracy: 0.5000 - val_loss: 2.9337\n"
          ]
        }
      ]
    },
    {
      "cell_type": "code",
      "source": [
        "# Evaluar el modelo\n",
        "test_loss, test_acc = modelo.evaluate(test_generator)\n",
        "print('Precisión en datos de prueba:', test_acc)\n",
        "\n",
        "# Graficar la precisión de entrenamiento y validación a lo largo del tiempo\n",
        "plt.plot(historia.history['accuracy'], label='Precisión de entrenamiento')\n",
        "plt.plot(historia.history['val_accuracy'], label='Precisión de validación')\n",
        "plt.xlabel('Vueltas')\n",
        "plt.ylabel('Precisión')\n",
        "plt.ylim([0, 1])\n",
        "plt.legend(loc='lower right')\n",
        "plt.show()"
      ],
      "metadata": {
        "colab": {
          "base_uri": "https://localhost:8080/",
          "height": 490
        },
        "id": "CLJwstTCPUqn",
        "outputId": "bed1697c-9089-491f-bd73-04e71439d227"
      },
      "execution_count": 8,
      "outputs": [
        {
          "output_type": "stream",
          "name": "stdout",
          "text": [
            "\u001b[1m1/1\u001b[0m \u001b[32m━━━━━━━━━━━━━━━━━━━━\u001b[0m\u001b[37m\u001b[0m \u001b[1m0s\u001b[0m 255ms/step - accuracy: 0.5000 - loss: 2.9337\n",
            "Precisión en datos de prueba: 0.5\n"
          ]
        },
        {
          "output_type": "display_data",
          "data": {
            "text/plain": [
              "<Figure size 640x480 with 1 Axes>"
            ],
            "image/png": "[encoded data removed]"
          },
          "metadata": {}
        }
      ]
    },
    {
      "source": [
        "from ipywidgets import FileUpload\n",
        "from IPython.display import display\n",
        "import numpy as np\n",
        "import tensorflow as tf\n",
        "from tensorflow.keras.preprocessing import image\n",
        "import io # Import the io module\n",
        "\n",
        "# Crear un selector de archivos interactivo\n",
        "uploader = FileUpload()\n",
        "display(uploader)\n",
        "\n",
        "# Esperar a que el usuario cargue la imagen\n",
        "def on_upload_change(change):\n",
        "    for filename, file in uploader.value.items():\n",
        "        # Wrap file content in BytesIO to handle potential binary data\n",
        "        # and ensure it's treated as an in-memory file-like object\n",
        "        img = image.load_img(io.BytesIO(file['content']), target_size=(150, 150))\n",
        "        img_array = image.img_to_array(img)\n",
        "        img_array = np.expand_dims(img_array, axis=0)\n",
        "        img_array /= 255.0\n",
        "\n",
        "        # Realizar la predicción\n",
        "        prediccion = modelo.predict(img_array)\n",
        "\n",
        "        # Interpretar la salida\n",
        "        print(\"Predicción:\", prediccion)\n",
        "        if prediccion[0][0] < 0.5:\n",
        "            print(\"Predicción: GATO\")\n",
        "        else:\n",
        "            print(\"Predicción: Clase PERRO\")\n",
        "\n",
        "# Asociar la función de cambio\n",
        "uploader.observe(on_upload_change, names='value')"
      ],
      "cell_type": "code",
      "metadata": {
        "colab": {
          "base_uri": "https://localhost:8080/",
          "height": 622,
          "referenced_widgets": [
            "9ec1793b6a3c4c90955c565c49448e2c",
            "ae2d40cdef8545f092f9baa39be60eb8",
            "b2c16286dee7449cb486a7aeeae0bb5b"
          ]
        },
        "id": "fBo99spKRsyh",
        "outputId": "bca7c34a-4cc5-46b2-cff5-dcead010bb80"
      },
      "execution_count": 12,
      "outputs": [
        {
          "output_type": "display_data",
          "data": {
            "text/plain": [
              "FileUpload(value={}, description='Upload')"
            ],
            "application/vnd.jupyter.widget-view+json": {
              "version_major": 2,
              "version_minor": 0,
              "model_id": "9ec1793b6a3c4c90955c565c49448e2c"
            }
          },
          "metadata": {}
        },
        {
          "output_type": "stream",
          "name": "stdout",
          "text": [
            "\u001b[1m1/1\u001b[0m \u001b[32m━━━━━━━━━━━━━━━━━━━━\u001b[0m\u001b[37m\u001b[0m \u001b[1m0s\u001b[0m 48ms/step\n",
            "Predicción: [[0.99999976]]\n",
            "Predicción: Clase PERRO\n",
            "\u001b[1m1/1\u001b[0m \u001b[32m━━━━━━━━━━━━━━━━━━━━\u001b[0m\u001b[37m\u001b[0m \u001b[1m0s\u001b[0m 49ms/step\n",
            "Predicción: [[0.972815]]\n",
            "Predicción: Clase PERRO\n",
            "\u001b[1m1/1\u001b[0m \u001b[32m━━━━━━━━━━━━━━━━━━━━\u001b[0m\u001b[37m\u001b[0m \u001b[1m0s\u001b[0m 72ms/step\n",
            "Predicción: [[0.2757034]]\n",
            "Predicción: GATO\n",
            "\u001b[1m1/1\u001b[0m \u001b[32m━━━━━━━━━━━━━━━━━━━━\u001b[0m\u001b[37m\u001b[0m \u001b[1m0s\u001b[0m 48ms/step\n",
            "Predicción: [[0.9993954]]\n",
            "Predicción: Clase PERRO\n",
            "\u001b[1m1/1\u001b[0m \u001b[32m━━━━━━━━━━━━━━━━━━━━\u001b[0m\u001b[37m\u001b[0m \u001b[1m0s\u001b[0m 58ms/step\n",
            "Predicción: [[0.99575806]]\n",
            "Predicción: Clase PERRO\n",
            "\u001b[1m1/1\u001b[0m \u001b[32m━━━━━━━━━━━━━━━━━━━━\u001b[0m\u001b[37m\u001b[0m \u001b[1m0s\u001b[0m 49ms/step\n",
            "Predicción: [[0.9971577]]\n",
            "Predicción: Clase PERRO\n",
            "\u001b[1m1/1\u001b[0m \u001b[32m━━━━━━━━━━━━━━━━━━━━\u001b[0m\u001b[37m\u001b[0m \u001b[1m0s\u001b[0m 58ms/step\n",
            "Predicción: [[0.99976075]]\n",
            "Predicción: Clase PERRO\n",
            "\u001b[1m1/1\u001b[0m \u001b[32m━━━━━━━━━━━━━━━━━━━━\u001b[0m\u001b[37m\u001b[0m \u001b[1m0s\u001b[0m 64ms/step\n",
            "Predicción: [[0.9789735]]\n",
            "Predicción: Clase PERRO\n",
            "\u001b[1m1/1\u001b[0m \u001b[32m━━━━━━━━━━━━━━━━━━━━\u001b[0m\u001b[37m\u001b[0m \u001b[1m0s\u001b[0m 58ms/step\n",
            "Predicción: [[0.33214256]]\n",
            "Predicción: GATO\n",
            "\u001b[1m1/1\u001b[0m \u001b[32m━━━━━━━━━━━━━━━━━━━━\u001b[0m\u001b[37m\u001b[0m \u001b[1m0s\u001b[0m 50ms/step\n",
            "Predicción: [[0.99976075]]\n",
            "Predicción: Clase PERRO\n",
            "\u001b[1m1/1\u001b[0m \u001b[32m━━━━━━━━━━━━━━━━━━━━\u001b[0m\u001b[37m\u001b[0m \u001b[1m0s\u001b[0m 76ms/step\n",
            "Predicción: [[0.9971577]]\n",
            "Predicción: Clase PERRO\n"
          ]
        }
      ]
    }
  ]
}