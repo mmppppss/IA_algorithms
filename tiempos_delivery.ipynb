{
  "nbformat": 4,
  "nbformat_minor": 0,
  "metadata": {
    "colab": {
      "provenance": [],
      "authorship_tag": "ABX9TyMviELf9Fm/lVbEjkymEKKf",
      "include_colab_link": true
    },
    "kernelspec": {
      "name": "python3",
      "display_name": "Python 3"
    },
    "language_info": {
      "name": "python"
    }
  },
  "cells": [
    {
      "cell_type": "markdown",
      "metadata": {
        "id": "view-in-github",
        "colab_type": "text"
      },
      "source": [
        "<a href=\"https://colab.research.google.com/github/mmppppss/IA_algorithms/blob/main/tiempos_delivery.ipynb\" target=\"_parent\"><img src=\"https://colab.research.google.com/assets/colab-badge.svg\" alt=\"Open In Colab\"/></a>"
      ]
    },
    {
      "cell_type": "markdown",
      "source": [
        "# Prediccion del tiempo que llevara una entrega (Delivery)\n",
        "## Basado en datos historicos (Distancia, Trafico, Cola de pedidos, Clima, y Tiempo de entrega)"
      ],
      "metadata": {
        "id": "Du8VquOSMmwo"
      }
    },
    {
      "cell_type": "code",
      "execution_count": null,
      "metadata": {
        "colab": {
          "base_uri": "https://localhost:8080/"
        },
        "id": "fmDU4dl9LIzt",
        "outputId": "98fc3f89-907e-4c20-cad3-60c6912777bc"
      },
      "outputs": [
        {
          "output_type": "stream",
          "name": "stdout",
          "text": [
            "   Distancia_km  Trafico  Pedidos  Clima  TiempoEntrega_min\n",
            "0      6.243562        3        5      1          49.783749\n",
            "1     14.310000        1        7      0          52.269237\n",
            "2     11.247915        2        4      0          48.374215\n",
            "3      9.381219        2        1      0          48.753670\n",
            "4      3.184261        3        5      0          43.895556\n"
          ]
        }
      ],
      "source": [
        "import pandas as pd\n",
        "import numpy as np\n",
        "import math\n",
        "data = pd.read_csv(\"https://raw.githubusercontent.com/mmppppss/IA_algorithms/refs/heads/main/datos_delivery.csv\")\n",
        "print(data.head())\n"
      ]
    },
    {
      "cell_type": "code",
      "source": [
        "## generar datos random\n",
        "\"\"\"\n",
        "np.random.seed(42)\n",
        "n_samples = 2000\n",
        "\n",
        "# Variables simuladas\n",
        "distancia = np.random.uniform(1, 15, n_samples)  # Distancia en km\n",
        "trafico = np.random.randint(1, 4, n_samples)  # 1 = Bajo, 2 = Medio, 3 = Alto\n",
        "pedidos_en_cola = np.random.randint(1, 10, n_samples)  # Número de pedidos pendientes\n",
        "clima = np.random.randint(0, 2, n_samples)  # 0 = Soleado, 1 = Lluvia\n",
        "\n",
        "# Tiempo de entrega (target variable)\n",
        "tiempo_entrega = 10 + 2.5 * distancia + 5 * trafico + 1.2 * pedidos_en_cola + 4 * clima + np.random.normal(0, 3, n_samples)\n",
        "\n",
        "# Crear DataFrame\n",
        "data = pd.DataFrame({'Distancia_km': distancia, 'Trafico': trafico, 'Pedidos': pedidos_en_cola, 'Clima': clima, 'TiempoEntrega_min': tiempo_entrega})\n",
        "print(data.head())\"\"\""
      ],
      "metadata": {
        "id": "aoslESTYUgRQ"
      },
      "execution_count": null,
      "outputs": []
    },
    {
      "cell_type": "markdown",
      "source": [
        "### Definir variables dependientes e independientes"
      ],
      "metadata": {
        "id": "3MBoWX0oOGK9"
      }
    },
    {
      "cell_type": "code",
      "source": [
        "# Variables predictoras (independientes)\n",
        "x = data[['Distancia_km', 'Trafico', 'Pedidos', 'Clima']]\n",
        "\n",
        "# Variable objetivo (dependiente)\n",
        "y = data['TiempoEntrega_min']"
      ],
      "metadata": {
        "id": "BDzh8r84OQmS"
      },
      "execution_count": null,
      "outputs": []
    },
    {
      "cell_type": "markdown",
      "source": [
        "### Dividir datos de entrenamiento y prueba"
      ],
      "metadata": {
        "id": "FD6NFt0hO_fT"
      }
    },
    {
      "cell_type": "code",
      "source": [
        "from sklearn.model_selection import train_test_split\n",
        "\n",
        "# 80% de los datos se usan para entrenamiento, 20% para prueba\n",
        "X_train, X_test, y_train, y_test = train_test_split(x, y, test_size=0.2, random_state=42)\n"
      ],
      "metadata": {
        "id": "K_QMDMnPO2bT"
      },
      "execution_count": null,
      "outputs": []
    },
    {
      "cell_type": "markdown",
      "source": [
        "### Entrenar el modelo"
      ],
      "metadata": {
        "id": "n5SQSinbPKFD"
      }
    },
    {
      "cell_type": "code",
      "source": [
        "from sklearn.linear_model import LinearRegression\n",
        "\n",
        "# Crear y entrenar el modelo\n",
        "modelo = LinearRegression()\n",
        "modelo.fit(X_train, y_train)\n",
        "\n",
        "# Mostrar coeficientes del modelo\n",
        "print(\"Coeficientes:\", modelo.coef_)\n",
        "print(\"Intercepto:\", modelo.intercept_)\n",
        "print(\"Tiempo de entrega (Y) =\", round(modelo.intercept_,2), \"+(\", round(modelo.coef_[0],2), \"* Distancia ) + (\", round(modelo.coef_[1],2), \"* Trafico ) + (\", round(modelo.coef_[2],2), \"* Pedidos ) + (\", round(modelo.coef_[3],2), \"* Clima )\")"
      ],
      "metadata": {
        "colab": {
          "base_uri": "https://localhost:8080/"
        },
        "id": "kj6i8pwFPJwP",
        "outputId": "54e14317-9640-4bd2-9870-0a284a6dc1a1"
      },
      "execution_count": null,
      "outputs": [
        {
          "output_type": "stream",
          "name": "stdout",
          "text": [
            "Coeficientes: [2.52936951 5.5984878  1.21021208 3.42121773]\n",
            "Intercepto: 8.617633128751251\n",
            "Tiempo de entrega (Y) = 8.62 +( 2.53 * Distancia ) + ( 5.6 * Trafico ) + ( 1.21 * Pedidos ) + ( 3.42 * Clima )\n"
          ]
        }
      ]
    },
    {
      "cell_type": "markdown",
      "source": [
        "### Ver el error cuadratico medio"
      ],
      "metadata": {
        "id": "8tbqW0j1RGma"
      }
    },
    {
      "cell_type": "code",
      "source": [
        "from sklearn.metrics import mean_squared_error\n",
        "\n",
        "# Hacer predicciones en el conjunto de prueba\n",
        "y_pred = modelo.predict(X_test)\n",
        "\n",
        "# Evaluar el modelo con error cuadrático medio (MSE)\n",
        "mse = mean_squared_error(y_test, y_pred)\n",
        "print(f'Error cuadrático medio (MSE): {mse:.2f}')\n"
      ],
      "metadata": {
        "colab": {
          "base_uri": "https://localhost:8080/"
        },
        "id": "kx6d-GpiRO8Y",
        "outputId": "8f1919b8-7805-474d-b4ed-0b2426f49210"
      },
      "execution_count": null,
      "outputs": [
        {
          "output_type": "stream",
          "name": "stdout",
          "text": [
            "Error cuadrático medio (MSE): 8.51\n"
          ]
        }
      ]
    },
    {
      "cell_type": "code",
      "source": [
        "import matplotlib.pyplot as pltç\n",
        "\n",
        "num_puntos = len(y_test)\n",
        "colors = np.random.rand(num_puntos, 3)\n",
        "\n",
        "plt.scatter(y_test, y_pred, alpha=0.7, color=colors, label='Predicciones')\n",
        "\n",
        "plt.plot([min(y_test), max(y_test)], [min(y_test), max(y_test)], color='red', linestyle='--', label='Referencia')\n",
        "\n",
        "plt.xlabel('Valores Reales')\n",
        "plt.ylabel('Predicciones')\n",
        "plt.title('Predicciones vs Valores Reales')\n",
        "\n",
        "plt.legend()\n",
        "\n",
        "plt.show()\n"
      ],
      "metadata": {
        "colab": {
          "base_uri": "https://localhost:8080/",
          "height": 472
        },
        "id": "iPpkWuiKRg3t",
        "outputId": "5c9c759d-eb7f-494d-b0e3-974c816d4b82"
      },
      "execution_count": 10,
      "outputs": [
        {
          "output_type": "display_data",
          "data": {
            "text/plain": [
              "<Figure size 640x480 with 1 Axes>"
            ],
            "image/png": "[encoded data removed]"
          },
          "metadata": {}
        }
      ]
    },
    {
      "cell_type": "code",
      "source": [
        "def predecir_tiempo_entrega(distancia, trafico, pedidos, clima):\n",
        "    datos_nuevos = pd.DataFrame([[distancia, trafico, pedidos, clima]],\n",
        "                                columns=['Distancia_km', 'Trafico', 'Pedidos', 'Clima'])\n",
        "    tiempo_estimado = modelo.predict(datos_nuevos)[0]\n",
        "\n",
        "    return tiempo_estimado\n",
        "\n",
        "print(\"Bienvenido al sistema de predicción de tiempo de entrega.\")\n",
        "\n",
        "distancia = float(input(\"Introduce la distancia en km: \"))\n",
        "trafico = int(input(\"Introduce el nivel de tráfico (1 = Bajo, 2 = Medio, 3 = Alto): \"))\n",
        "pedidos = int(input(\"Introduce el número de pedidos en cola: \"))\n",
        "clima = int(input(\"Introduce el clima (0 = Soleado, 1 = Lluvia): \"))\n",
        "\n",
        "tiempo_entrega_estimado = predecir_tiempo_entrega(distancia, trafico, pedidos, clima)\n",
        "\n",
        "print(f\"\\nEl tiempo estimado de entrega es: {tiempo_entrega_estimado:.2f} minutos.\")"
      ],
      "metadata": {
        "colab": {
          "base_uri": "https://localhost:8080/",
          "height": 374
        },
        "id": "dScXxi0zR7Tx",
        "outputId": "01ce3c0c-5e78-4d51-cdf1-744ffe91e60f"
      },
      "execution_count": 9,
      "outputs": [
        {
          "metadata": {
            "tags": null
          },
          "name": "stdout",
          "output_type": "stream",
          "text": [
            "Bienvenido al sistema de predicción de tiempo de entrega.\n"
          ]
        },
        {
          "output_type": "error",
          "ename": "KeyboardInterrupt",
          "evalue": "Interrupted by user",
          "traceback": [
            "\u001b[0;31m---------------------------------------------------------------------------\u001b[0m",
            "\u001b[0;31mKeyboardInterrupt\u001b[0m                         Traceback (most recent call last)",
            "\u001b[0;32m<ipython-input-9-b595b3f66a7a>\u001b[0m in \u001b[0;36m<cell line: 0>\u001b[0;34m()\u001b[0m\n\u001b[1;32m      8\u001b[0m \u001b[0mprint\u001b[0m\u001b[0;34m(\u001b[0m\u001b[0;34m\"Bienvenido al sistema de predicción de tiempo de entrega.\"\u001b[0m\u001b[0;34m)\u001b[0m\u001b[0;34m\u001b[0m\u001b[0;34m\u001b[0m\u001b[0m\n\u001b[1;32m      9\u001b[0m \u001b[0;34m\u001b[0m\u001b[0m\n\u001b[0;32m---> 10\u001b[0;31m \u001b[0mdistancia\u001b[0m \u001b[0;34m=\u001b[0m \u001b[0mfloat\u001b[0m\u001b[0;34m(\u001b[0m\u001b[0minput\u001b[0m\u001b[0;34m(\u001b[0m\u001b[0;34m\"Introduce la distancia en km: \"\u001b[0m\u001b[0;34m)\u001b[0m\u001b[0;34m)\u001b[0m\u001b[0;34m\u001b[0m\u001b[0;34m\u001b[0m\u001b[0m\n\u001b[0m\u001b[1;32m     11\u001b[0m \u001b[0mtrafico\u001b[0m \u001b[0;34m=\u001b[0m \u001b[0mint\u001b[0m\u001b[0;34m(\u001b[0m\u001b[0minput\u001b[0m\u001b[0;34m(\u001b[0m\u001b[0;34m\"Introduce el nivel de tráfico (1 = Bajo, 2 = Medio, 3 = Alto): \"\u001b[0m\u001b[0;34m)\u001b[0m\u001b[0;34m)\u001b[0m\u001b[0;34m\u001b[0m\u001b[0;34m\u001b[0m\u001b[0m\n\u001b[1;32m     12\u001b[0m \u001b[0mpedidos\u001b[0m \u001b[0;34m=\u001b[0m \u001b[0mint\u001b[0m\u001b[0;34m(\u001b[0m\u001b[0minput\u001b[0m\u001b[0;34m(\u001b[0m\u001b[0;34m\"Introduce el número de pedidos en cola: \"\u001b[0m\u001b[0;34m)\u001b[0m\u001b[0;34m)\u001b[0m\u001b[0;34m\u001b[0m\u001b[0;34m\u001b[0m\u001b[0m\n",
            "\u001b[0;32m/usr/local/lib/python3.11/dist-packages/ipykernel/kernelbase.py\u001b[0m in \u001b[0;36mraw_input\u001b[0;34m(self, prompt)\u001b[0m\n\u001b[1;32m   1175\u001b[0m                 \u001b[0;34m\"raw_input was called, but this frontend does not support input requests.\"\u001b[0m\u001b[0;34m\u001b[0m\u001b[0;34m\u001b[0m\u001b[0m\n\u001b[1;32m   1176\u001b[0m             )\n\u001b[0;32m-> 1177\u001b[0;31m         return self._input_request(\n\u001b[0m\u001b[1;32m   1178\u001b[0m             \u001b[0mstr\u001b[0m\u001b[0;34m(\u001b[0m\u001b[0mprompt\u001b[0m\u001b[0;34m)\u001b[0m\u001b[0;34m,\u001b[0m\u001b[0;34m\u001b[0m\u001b[0;34m\u001b[0m\u001b[0m\n\u001b[1;32m   1179\u001b[0m             \u001b[0mself\u001b[0m\u001b[0;34m.\u001b[0m\u001b[0m_parent_ident\u001b[0m\u001b[0;34m[\u001b[0m\u001b[0;34m\"shell\"\u001b[0m\u001b[0;34m]\u001b[0m\u001b[0;34m,\u001b[0m\u001b[0;34m\u001b[0m\u001b[0;34m\u001b[0m\u001b[0m\n",
            "\u001b[0;32m/usr/local/lib/python3.11/dist-packages/ipykernel/kernelbase.py\u001b[0m in \u001b[0;36m_input_request\u001b[0;34m(self, prompt, ident, parent, password)\u001b[0m\n\u001b[1;32m   1217\u001b[0m             \u001b[0;32mexcept\u001b[0m \u001b[0mKeyboardInterrupt\u001b[0m\u001b[0;34m:\u001b[0m\u001b[0;34m\u001b[0m\u001b[0;34m\u001b[0m\u001b[0m\n\u001b[1;32m   1218\u001b[0m                 \u001b[0;31m# re-raise KeyboardInterrupt, to truncate traceback\u001b[0m\u001b[0;34m\u001b[0m\u001b[0;34m\u001b[0m\u001b[0m\n\u001b[0;32m-> 1219\u001b[0;31m                 \u001b[0;32mraise\u001b[0m \u001b[0mKeyboardInterrupt\u001b[0m\u001b[0;34m(\u001b[0m\u001b[0;34m\"Interrupted by user\"\u001b[0m\u001b[0;34m)\u001b[0m \u001b[0;32mfrom\u001b[0m \u001b[0;32mNone\u001b[0m\u001b[0;34m\u001b[0m\u001b[0;34m\u001b[0m\u001b[0m\n\u001b[0m\u001b[1;32m   1220\u001b[0m             \u001b[0;32mexcept\u001b[0m \u001b[0mException\u001b[0m\u001b[0;34m:\u001b[0m\u001b[0;34m\u001b[0m\u001b[0;34m\u001b[0m\u001b[0m\n\u001b[1;32m   1221\u001b[0m                 \u001b[0mself\u001b[0m\u001b[0;34m.\u001b[0m\u001b[0mlog\u001b[0m\u001b[0;34m.\u001b[0m\u001b[0mwarning\u001b[0m\u001b[0;34m(\u001b[0m\u001b[0;34m\"Invalid Message:\"\u001b[0m\u001b[0;34m,\u001b[0m \u001b[0mexc_info\u001b[0m\u001b[0;34m=\u001b[0m\u001b[0;32mTrue\u001b[0m\u001b[0;34m)\u001b[0m\u001b[0;34m\u001b[0m\u001b[0;34m\u001b[0m\u001b[0m\n",
            "\u001b[0;31mKeyboardInterrupt\u001b[0m: Interrupted by user"
          ]
        }
      ]
    }
  ]
}