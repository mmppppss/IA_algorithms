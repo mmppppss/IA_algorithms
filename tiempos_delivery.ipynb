{
  "nbformat": 4,
  "nbformat_minor": 0,
  "metadata": {
    "colab": {
      "provenance": [],
      "authorship_tag": "ABX9TyOjyxrpw2R4tBu1VbrSoz5D",
      "include_colab_link": true
    },
    "kernelspec": {
      "name": "python3",
      "display_name": "Python 3"
    },
    "language_info": {
      "name": "python"
    }
  },
  "cells": [
    {
      "cell_type": "markdown",
      "metadata": {
        "id": "view-in-github",
        "colab_type": "text"
      },
      "source": [
        "<a href=\"https://colab.research.google.com/github/mmppppss/IA_algorithms/blob/main/tiempos_delivery.ipynb\" target=\"_parent\"><img src=\"https://colab.research.google.com/assets/colab-badge.svg\" alt=\"Open In Colab\"/></a>"
      ]
    },
    {
      "cell_type": "markdown",
      "source": [
        "# Prediccion del tiempo que llevara una entrega (Delivery)\n",
        "## Basado en datos historicos (Distancia, Trafico, Cola de pedidos, Clima, y Tiempo de entrega)"
      ],
      "metadata": {
        "id": "Du8VquOSMmwo"
      }
    },
    {
      "cell_type": "code",
      "execution_count": 58,
      "metadata": {
        "colab": {
          "base_uri": "https://localhost:8080/"
        },
        "id": "fmDU4dl9LIzt",
        "outputId": "98fc3f89-907e-4c20-cad3-60c6912777bc"
      },
      "outputs": [
        {
          "output_type": "stream",
          "name": "stdout",
          "text": [
            "   Distancia_km  Trafico  Pedidos  Clima  TiempoEntrega_min\n",
            "0      6.243562        3        5      1          49.783749\n",
            "1     14.310000        1        7      0          52.269237\n",
            "2     11.247915        2        4      0          48.374215\n",
            "3      9.381219        2        1      0          48.753670\n",
            "4      3.184261        3        5      0          43.895556\n"
          ]
        }
      ],
      "source": [
        "import pandas as pd\n",
        "import numpy as np\n",
        "import math\n",
        "data = pd.read_csv(\"https://raw.githubusercontent.com/mmppppss/IA_algorithms/refs/heads/main/datos_delivery.csv\")\n",
        "print(data.head())\n"
      ]
    },
    {
      "cell_type": "code",
      "source": [
        "## generar datos random\n",
        "\"\"\"\n",
        "np.random.seed(42)\n",
        "n_samples = 2000\n",
        "\n",
        "# Variables simuladas\n",
        "distancia = np.random.uniform(1, 15, n_samples)  # Distancia en km\n",
        "trafico = np.random.randint(1, 4, n_samples)  # 1 = Bajo, 2 = Medio, 3 = Alto\n",
        "pedidos_en_cola = np.random.randint(1, 10, n_samples)  # Número de pedidos pendientes\n",
        "clima = np.random.randint(0, 2, n_samples)  # 0 = Soleado, 1 = Lluvia\n",
        "\n",
        "# Tiempo de entrega (target variable)\n",
        "tiempo_entrega = 10 + 2.5 * distancia + 5 * trafico + 1.2 * pedidos_en_cola + 4 * clima + np.random.normal(0, 3, n_samples)\n",
        "\n",
        "# Crear DataFrame\n",
        "data = pd.DataFrame({'Distancia_km': distancia, 'Trafico': trafico, 'Pedidos': pedidos_en_cola, 'Clima': clima, 'TiempoEntrega_min': tiempo_entrega})\n",
        "print(data.head())\"\"\""
      ],
      "metadata": {
        "id": "aoslESTYUgRQ"
      },
      "execution_count": null,
      "outputs": []
    },
    {
      "cell_type": "markdown",
      "source": [
        "### Definir variables dependientes e independientes"
      ],
      "metadata": {
        "id": "3MBoWX0oOGK9"
      }
    },
    {
      "cell_type": "code",
      "source": [
        "# Variables predictoras (independientes)\n",
        "x = data[['Distancia_km', 'Trafico', 'Pedidos', 'Clima']]\n",
        "\n",
        "# Variable objetivo (dependiente)\n",
        "y = data['TiempoEntrega_min']"
      ],
      "metadata": {
        "id": "BDzh8r84OQmS"
      },
      "execution_count": 59,
      "outputs": []
    },
    {
      "cell_type": "markdown",
      "source": [
        "### Dividir datos de entrenamiento y prueba"
      ],
      "metadata": {
        "id": "FD6NFt0hO_fT"
      }
    },
    {
      "cell_type": "code",
      "source": [
        "from sklearn.model_selection import train_test_split\n",
        "\n",
        "# 80% de los datos se usan para entrenamiento, 20% para prueba\n",
        "X_train, X_test, y_train, y_test = train_test_split(x, y, test_size=0.2, random_state=42)\n"
      ],
      "metadata": {
        "id": "K_QMDMnPO2bT"
      },
      "execution_count": 60,
      "outputs": []
    },
    {
      "cell_type": "markdown",
      "source": [
        "### Entrenar el modelo"
      ],
      "metadata": {
        "id": "n5SQSinbPKFD"
      }
    },
    {
      "cell_type": "code",
      "source": [
        "from sklearn.linear_model import LinearRegression\n",
        "\n",
        "# Crear y entrenar el modelo\n",
        "modelo = LinearRegression()\n",
        "modelo.fit(X_train, y_train)\n",
        "\n",
        "# Mostrar coeficientes del modelo\n",
        "print(\"Coeficientes:\", modelo.coef_)\n",
        "print(\"Intercepto:\", modelo.intercept_)\n",
        "print(\"Tiempo de entrega (Y) =\", round(modelo.intercept_,2), \"+(\", round(modelo.coef_[0],2), \"* Distancia ) + (\", round(modelo.coef_[1],2), \"* Trafico ) + (\", round(modelo.coef_[2],2), \"* Pedidos ) + (\", round(modelo.coef_[3],2), \"* Clima )\")"
      ],
      "metadata": {
        "colab": {
          "base_uri": "https://localhost:8080/"
        },
        "id": "kj6i8pwFPJwP",
        "outputId": "54e14317-9640-4bd2-9870-0a284a6dc1a1"
      },
      "execution_count": 61,
      "outputs": [
        {
          "output_type": "stream",
          "name": "stdout",
          "text": [
            "Coeficientes: [2.52936951 5.5984878  1.21021208 3.42121773]\n",
            "Intercepto: 8.617633128751251\n",
            "Tiempo de entrega (Y) = 8.62 +( 2.53 * Distancia ) + ( 5.6 * Trafico ) + ( 1.21 * Pedidos ) + ( 3.42 * Clima )\n"
          ]
        }
      ]
    },
    {
      "cell_type": "markdown",
      "source": [
        "### Ver el error cuadratico medio"
      ],
      "metadata": {
        "id": "8tbqW0j1RGma"
      }
    },
    {
      "cell_type": "code",
      "source": [
        "from sklearn.metrics import mean_squared_error\n",
        "\n",
        "# Hacer predicciones en el conjunto de prueba\n",
        "y_pred = modelo.predict(X_test)\n",
        "\n",
        "# Evaluar el modelo con error cuadrático medio (MSE)\n",
        "mse = mean_squared_error(y_test, y_pred)\n",
        "print(f'Error cuadrático medio (MSE): {mse:.2f}')\n"
      ],
      "metadata": {
        "colab": {
          "base_uri": "https://localhost:8080/"
        },
        "id": "kx6d-GpiRO8Y",
        "outputId": "8f1919b8-7805-474d-b4ed-0b2426f49210"
      },
      "execution_count": 62,
      "outputs": [
        {
          "output_type": "stream",
          "name": "stdout",
          "text": [
            "Error cuadrático medio (MSE): 8.51\n"
          ]
        }
      ]
    },
    {
      "cell_type": "code",
      "source": [
        "import matplotlib.pyplot as plt\n",
        "\n",
        "plt.scatter(y_test, y_pred, alpha=0.7, color='blue', label='Predicciones')\n",
        "\n",
        "plt.plot([min(y_test), max(y_test)], [min(y_test), max(y_test)], color='red', linestyle='--', label='Referencia')\n",
        "\n",
        "plt.xlabel('Valores Reales')\n",
        "plt.ylabel('Predicciones')\n",
        "plt.title('Predicciones vs Valores Reales')\n",
        "\n",
        "plt.legend()\n",
        "\n",
        "plt.show()\n"
      ],
      "metadata": {
        "colab": {
          "base_uri": "https://localhost:8080/",
          "height": 472
        },
        "id": "iPpkWuiKRg3t",
        "outputId": "e6076390-351d-4f89-dd12-69b7f7fbe93d"
      },
      "execution_count": 63,
      "outputs": [
        {
          "output_type": "display_data",
          "data": {
            "text/plain": [
              "<Figure size 640x480 with 1 Axes>"
            ],
            "image/png": "[encoded data removed]"
          },
          "metadata": {}
        }
      ]
    },
    {
      "cell_type": "code",
      "source": [
        "def predecir_tiempo_entrega(distancia, trafico, pedidos, clima):\n",
        "    datos_nuevos = pd.DataFrame([[distancia, trafico, pedidos, clima]],\n",
        "                                columns=['Distancia_km', 'Trafico', 'Pedidos', 'Clima'])\n",
        "    tiempo_estimado = modelo.predict(datos_nuevos)[0]\n",
        "\n",
        "    return tiempo_estimado\n",
        "\n",
        "print(\"Bienvenido al sistema de predicción de tiempo de entrega.\")\n",
        "\n",
        "distancia = float(input(\"Introduce la distancia en km: \"))\n",
        "trafico = int(input(\"Introduce el nivel de tráfico (1 = Bajo, 2 = Medio, 3 = Alto): \"))\n",
        "pedidos = int(input(\"Introduce el número de pedidos en cola: \"))\n",
        "clima = int(input(\"Introduce el clima (0 = Soleado, 1 = Lluvia): \"))\n",
        "\n",
        "tiempo_entrega_estimado = predecir_tiempo_entrega(distancia, trafico, pedidos, clima)\n",
        "\n",
        "print(f\"\\nEl tiempo estimado de entrega es: {tiempo_entrega_estimado:.2f} minutos.\")"
      ],
      "metadata": {
        "colab": {
          "base_uri": "https://localhost:8080/"
        },
        "id": "dScXxi0zR7Tx",
        "outputId": "ce6fdc5e-80c6-4e96-a353-54b0af6f29c4"
      },
      "execution_count": 40,
      "outputs": [
        {
          "output_type": "stream",
          "name": "stdout",
          "text": [
            "Bienvenido al sistema de predicción de tiempo de entrega.\n",
            "Introduce la distancia en km: 4.3\n",
            "Introduce el nivel de tráfico (1 = Bajo, 2 = Medio, 3 = Alto): 3\n",
            "Introduce el número de pedidos en cola: 2\n",
            "Introduce el clima (0 = Soleado, 1 = Lluvia): 0\n",
            "\n",
            "El tiempo estimado de entrega es: 38.71 minutos.\n"
          ]
        }
      ]
    }
  ]
}